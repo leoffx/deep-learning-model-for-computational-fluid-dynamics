{
  "nbformat": 4,
  "nbformat_minor": 0,
  "metadata": {
    "colab": {
      "name": "dl-model-for-cfd",
      "provenance": [],
      "collapsed_sections": [
        "4q_fwFhkK1Y8"
      ],
      "machine_shape": "hm",
      "toc_visible": true,
      "authorship_tag": "ABX9TyOkCX+6CFae247wNImCQbxD",
      "include_colab_link": true
    },
    "kernelspec": {
      "name": "python3",
      "display_name": "Python 3"
    },
    "accelerator": "GPU"
  },
  "cells": [
    {
      "cell_type": "markdown",
      "metadata": {
        "id": "view-in-github",
        "colab_type": "text"
      },
      "source": [
        "<a href=\"https://colab.research.google.com/github/leoffx/deep-learning-model-for-computational-fluid-dynamics/blob/master/dl_model_for_cfd.ipynb\" target=\"_parent\"><img src=\"https://colab.research.google.com/assets/colab-badge.svg\" alt=\"Open In Colab\"/></a>"
      ]
    },
    {
      "cell_type": "markdown",
      "metadata": {
        "id": "4q_fwFhkK1Y8"
      },
      "source": [
        "# Lattice Boltzmann Method"
      ]
    },
    {
      "cell_type": "code",
      "metadata": {
        "id": "3MbnbUmVKyVr"
      },
      "source": [
        "import numpy as np\n",
        "from tqdm.notebook import tqdm\n",
        "\n",
        "np.random.seed(42)"
      ],
      "execution_count": null,
      "outputs": []
    },
    {
      "cell_type": "code",
      "metadata": {
        "id": "5sB0rv7fK-Yc"
      },
      "source": [
        "class LBM:\n",
        "    def __init__(self, height, width):\n",
        "        self.height = height\n",
        "        self.width = width\n",
        "        self.u = np.zeros((height, width, 2))\n",
        "        self.fin = np.zeros((height, width, 9))\n",
        "        self.omega = 1.9 #proportional to viscosity\n",
        "        self.generateObj()\n",
        "\n",
        "        u0 = 0.08 #inlet boundary condition for velocity\n",
        "        self.fin[..., 0] = 4. / 9. * (1 - 1.5 * u0**2)\n",
        "        self.fin[..., 2] = 1. / 9. * (1 - 1.5 * u0**2)\n",
        "        self.fin[..., 4] = 1. / 9. * (1 - 1.5 * u0**2)\n",
        "        self.fin[..., 1] = 1. / 9. * (1 + 3 * u0 + 4.5 * u0**2 - 1.5 * u0**2)\n",
        "        self.fin[..., 3] = 1. / 9. * (1 - 3 * u0 + 4.5 * u0**2 - 1.5 * u0**2)\n",
        "        self.fin[..., 5] = 1. / 36. * (1 + 3 * u0 + 4.5 * u0**2 - 1.5 * u0**2)\n",
        "        self.fin[..., 8] = 1. / 36. * (1 + 3 * u0 + 4.5 * u0**2 - 1.5 * u0**2)\n",
        "        self.fin[..., 6] = 1. / 36. * (1 - 3 * u0 + 4.5 * u0**2 - 1.5 * u0**2)\n",
        "        self.fin[..., 7] = 1. / 36. * (1 - 3 * u0 + 4.5 * u0**2 - 1.5 * u0**2)\n",
        "        self.rho = np.sum(self.fin, axis=2)\n",
        "\n",
        "        self.fin1 = self.fin[0, 0, 1]\n",
        "        self.fin5 = self.fin[0, 0, 5]\n",
        "        self.fin8 = self.fin[0, 0, 8]\n",
        "        self.fin6 = self.fin[0, 0, 6]\n",
        "        self.fin7 = self.fin[0, 0, 7]\n",
        "        self.fin3 = self.fin[0, 0, 3]\n",
        "\n",
        "    def collision(self):\n",
        "        self.rho = np.sum(self.fin, axis=2)\n",
        "\n",
        "        self.u[..., 0] = (self.fin[..., 1] + self.fin[..., 5] +\n",
        "                           self.fin[..., 8] - self.fin[..., 3] -\n",
        "                           self.fin[..., 7] - self.fin[..., 6]) / self.rho\n",
        "        self.u[..., 1] = (self.fin[..., 2] + self.fin[..., 5] +\n",
        "                           self.fin[..., 6] - self.fin[..., 4] -\n",
        "                           self.fin[..., 7] - self.fin[..., 8]) / self.rho\n",
        "\n",
        "        u2 = self.u[..., 0]**2 + self.u[..., 1]**2\n",
        "        uxuy = self.u[..., 0] * self.u[..., 1]\n",
        "        um32u2 = 1. - 1.5 * u2  #1 minus 3/2 of u**2\n",
        "\n",
        "        self.fin[..., 0] = self.fin[..., 0] * (\n",
        "            1. - self.omega) + self.omega * 4. / 9. * self.rho * (um32u2)\n",
        "        self.fin[..., 1] = self.fin[..., 1] * (\n",
        "            1. - self.omega) + self.omega * 1. / 9. * self.rho * (\n",
        "                3. * self.u[..., 0] + 4.5 * self.u[..., 0]**2 + um32u2)\n",
        "        self.fin[..., 2] = self.fin[..., 2] * (\n",
        "            1. - self.omega) + self.omega * 1. / 9. * self.rho * (\n",
        "                3. * self.u[..., 1] + 4.5 * self.u[..., 1]**2 + um32u2)\n",
        "        self.fin[..., 3] = self.fin[..., 3] * (\n",
        "            1. - self.omega) + self.omega * 1. / 9. * self.rho * (\n",
        "                -3. * self.u[..., 0] + 4.5 * self.u[..., 0]**2 + um32u2)\n",
        "        self.fin[..., 4] = self.fin[..., 4] * (\n",
        "            1. - self.omega) + self.omega * 1. / 9. * self.rho * (\n",
        "                -3. * self.u[..., 1] + 4.5 * self.u[..., 1]**2 + um32u2)\n",
        "        self.fin[..., 5] = self.fin[..., 5] * (\n",
        "            1. - self.omega) + self.omega * 1. / 36. * self.rho * (\n",
        "                3. * (self.u[..., 0] + self.u[..., 1]) + 4.5 *\n",
        "                (u2 + 2. * uxuy) + um32u2)\n",
        "        self.fin[..., 6] = self.fin[..., 6] * (\n",
        "            1. - self.omega) + self.omega * 1. / 36. * self.rho * (\n",
        "                3. * (-self.u[..., 0] + self.u[..., 1]) + 4.5 *\n",
        "                (u2 - 2. * uxuy) + um32u2)\n",
        "        self.fin[..., 7] = self.fin[..., 7] * (\n",
        "            1. - self.omega) + self.omega * 1. / 36. * self.rho * (\n",
        "                3. * (-self.u[..., 0] - self.u[..., 1]) + 4.5 *\n",
        "                (u2 + 2. * uxuy) + um32u2)\n",
        "        self.fin[..., 8] = self.fin[..., 8] * (\n",
        "            1. - self.omega) + self.omega * 1. / 36. * self.rho * (\n",
        "                3. * (self.u[..., 0] - self.u[..., 1]) + 4.5 *\n",
        "                (u2 - 2. * uxuy) + um32u2)\n",
        "\n",
        "        self.fin[..., 1][:, 0] = self.fin1\n",
        "        self.fin[..., 3][:, 0] = self.fin3\n",
        "        self.fin[..., 5][:, 0] = self.fin5\n",
        "        self.fin[..., 8][:, 0] = self.fin8\n",
        "        self.fin[..., 6][:, 0] = self.fin6\n",
        "        self.fin[..., 7][:, 0] = self.fin7\n",
        "\n",
        "    def streaming(self):\n",
        "        self.fin[..., 2] = np.roll(self.fin[..., 2], 1, axis=0)\n",
        "        self.fin[..., 5] = np.roll(self.fin[..., 5], 1, axis=0)\n",
        "        self.fin[..., 6] = np.roll(self.fin[..., 6], 1, axis=0)\n",
        "\n",
        "        self.fin[..., 4] = np.roll(self.fin[..., 4], -1, axis=0)\n",
        "        self.fin[..., 8] = np.roll(self.fin[..., 8], -1, axis=0)\n",
        "        self.fin[..., 7] = np.roll(self.fin[..., 7], -1, axis=0)\n",
        "\n",
        "        self.fin[..., 1] = np.roll(self.fin[..., 1], 1, axis=1)\n",
        "        self.fin[..., 5] = np.roll(self.fin[..., 5], 1, axis=1)\n",
        "        self.fin[..., 8] = np.roll(self.fin[..., 8], 1, axis=1)\n",
        "\n",
        "        self.fin[..., 3] = np.roll(self.fin[..., 3], -1, axis=1)\n",
        "        self.fin[..., 7] = np.roll(self.fin[..., 7], -1, axis=1)\n",
        "        self.fin[..., 6] = np.roll(self.fin[..., 6], -1, axis=1)\n",
        "\n",
        "        #bounceback boundary\n",
        "        self.fin[..., 2][self.objBoundary[..., 2]] = self.fin[..., 4][self.obj]\n",
        "        self.fin[..., 4][self.objBoundary[..., 4]] = self.fin[..., 2][self.obj]\n",
        "        self.fin[..., 1][self.objBoundary[..., 1]] = self.fin[..., 3][self.obj]\n",
        "        self.fin[..., 3][self.objBoundary[..., 3]] = self.fin[..., 1][self.obj]\n",
        "        self.fin[..., 5][self.objBoundary[..., 5]] = self.fin[..., 7][self.obj]\n",
        "        self.fin[..., 6][self.objBoundary[..., 6]] = self.fin[..., 8][self.obj]\n",
        "        self.fin[..., 8][self.objBoundary[..., 8]] = self.fin[..., 6][self.obj]\n",
        "        self.fin[..., 7][self.objBoundary[..., 7]] = self.fin[..., 5][self.obj]\n",
        "\n",
        "    def generateObj(self):\n",
        "        self.obj = np.zeros((self.height, self.width), bool)\n",
        "        self.objBoundary = np.zeros((self.height, self.width, 9), bool)\n",
        "\n",
        "        # generate a random number of objects between 3 and 12\n",
        "        numCircle = np.random.randint(3, 12)\n",
        "        for _ in range(numCircle):\n",
        "            # chooses circle radius\n",
        "            radCircle = np.random.randint(5, 10)\n",
        "            # chooses a random area where the object will be placed,\n",
        "            # limited to not be too close to the margin\n",
        "            xCenter = np.random.randint(5 + radCircle, .9 * self.width - radCircle)\n",
        "            yCenter = np.random.randint(5 + radCircle, self.height - radCircle - 5)\n",
        "            # loop through all pixels, if it's inside the object area, set the matrix position to True\n",
        "            for i in range(self.height):\n",
        "                for j in range(self.width):\n",
        "                    # general circle equation, can also be changed for other shapes\n",
        "                    if (i - yCenter)**2 + (j - xCenter)**2 <= radCircle**2:\n",
        "                        self.obj[i, j] = True\n",
        "\n",
        "        self.obj[0,:] = True\n",
        "        self.objBoundary[..., 2] = np.roll(self.obj, 1, axis=0)\n",
        "        self.objBoundary[..., 4] = np.roll(self.obj, -1, axis=0)\n",
        "        self.objBoundary[..., 1] = np.roll(self.obj, 1, axis=1)\n",
        "        self.objBoundary[..., 3] = np.roll(self.obj, -1, axis=1)\n",
        "        self.objBoundary[..., 5] = np.roll(self.objBoundary[..., 2], 1, axis=1)\n",
        "        self.objBoundary[..., 6] = np.roll(self.objBoundary[..., 2], -1, axis=1)\n",
        "        self.objBoundary[..., 8] = np.roll(self.objBoundary[..., 4], 1, axis=1)\n",
        "        self.objBoundary[..., 7] = np.roll(self.objBoundary[..., 4], -1, axis=1)"
      ],
      "execution_count": null,
      "outputs": []
    },
    {
      "cell_type": "code",
      "metadata": {
        "id": "cFsei3xsVpAX"
      },
      "source": [
        "def create_examples(name, examples_number, simulation_res=128):\n",
        "    print(f'Creating {name} dataset.')\n",
        "    trainData = np.zeros((examples_number*100, simulation_res, simulation_res, 9))\n",
        "    objData = np.zeros((examples_number*100, simulation_res, simulation_res, 1))\n",
        "    x = 0\n",
        "    for i in tqdm(range(examples_number)):\n",
        "        fluid = LBM(simulation_res, simulation_res)\n",
        "        for _ in range(40*120):  #warm up\n",
        "            fluid.streaming()\n",
        "            fluid.collision()\n",
        "        for j in range(100):\n",
        "            for _ in range(60):\n",
        "                fluid.streaming()\n",
        "                fluid.collision()\n",
        "                \n",
        "            trainData[x] = fluid.fin  \n",
        "            objData[x, ..., 0] = fluid.obj\n",
        "            x+=1\n",
        "\n",
        "    np.save(f'x{name}', trainData)\n",
        "    np.save(f'obj{name}', objData)"
      ],
      "execution_count": null,
      "outputs": []
    },
    {
      "cell_type": "code",
      "metadata": {
        "id": "pPUu4t3wNwBy"
      },
      "source": [
        "create_examples('train', examples_number=30)\n",
        "create_examples('test', examples_number=3)"
      ],
      "execution_count": null,
      "outputs": []
    },
    {
      "cell_type": "markdown",
      "metadata": {
        "id": "X6lHbl-_Y96b"
      },
      "source": [
        "If you don't want to have to run this part everytime, you can also connect the notebook to Google Drive and save the files there using Colab's integration."
      ]
    },
    {
      "cell_type": "markdown",
      "metadata": {
        "id": "gOx7K5QxOgwL"
      },
      "source": [
        "# Deep Learning Model"
      ]
    },
    {
      "cell_type": "code",
      "metadata": {
        "id": "XGWg8PiyR5Y_"
      },
      "source": [
        "!git clone https://github.com/leoffx/deep-learning-model-for-computational-fluid-dynamics.git DLcfd"
      ],
      "execution_count": null,
      "outputs": []
    },
    {
      "cell_type": "code",
      "metadata": {
        "id": "k3hN4WCoOWGq"
      },
      "source": [
        "import tensorflow as tf\n",
        "import numpy as np\n",
        "import tensorflow.keras.backend as K\n",
        "import tensorflow.keras.layers as L\n",
        "from tensorflow.keras.models import Model\n",
        "\n",
        "import DLcfd.utils as utils  # file with helper functions\n",
        "import matplotlib.pyplot as plt\n",
        "\n",
        "np.random.seed(42)\n",
        "tf.random.set_seed(42)"
      ],
      "execution_count": null,
      "outputs": []
    },
    {
      "cell_type": "markdown",
      "metadata": {
        "id": "fIiWRN0_Oq-U"
      },
      "source": [
        "**Loading the Dataset**"
      ]
    },
    {
      "cell_type": "code",
      "metadata": {
        "id": "i_r6npUROo1_"
      },
      "source": [
        "x_train = np.load('xtrain.npy')\n",
        "x_train = (x_train - x_train.min())/(x_train.max()-x_train.min())\n",
        "obj_train = np.load('objtrain.npy')"
      ],
      "execution_count": null,
      "outputs": []
    },
    {
      "cell_type": "code",
      "metadata": {
        "id": "9LJ8fstRO04w"
      },
      "source": [
        "x_test = np.load('xtest.npy')\n",
        "x_test = (x_test - x_test.min())/(x_test.max()-x_test.min())\n",
        "obj_test = np.load('objtest.npy')"
      ],
      "execution_count": null,
      "outputs": []
    },
    {
      "cell_type": "markdown",
      "metadata": {
        "id": "ng_zFLfGQgLP"
      },
      "source": [
        "Default residual block.\n",
        "\n",
        "<center><img src=\"figures/residual_block.png\" width=\"400\" /></center>"
      ]
    },
    {
      "cell_type": "code",
      "metadata": {
        "id": "fTb4veFoPIQH"
      },
      "source": [
        "def residual_block(X, num_filters, stride_1, stride_2=1, kernel_size_1=3, kernel_size_2=3, padding='VALID'):\n",
        "\n",
        "    X_shortcut = X\n",
        "\n",
        "    X = L.Conv2D(filters=num_filters, kernel_size=kernel_size_1, strides=stride_1,\n",
        "                padding=padding, activation='swish')(X)\n",
        "    X = L.Conv2D(filters=num_filters, kernel_size=kernel_size_2, strides=stride_2,\n",
        "               padding='SAME', activation='swish')(X)\n",
        "\n",
        "    if padding == 'VALID':\n",
        "        X_shortcut = L.Conv2D(\n",
        "            filters=num_filters, kernel_size=kernel_size_1, strides=stride_1,\n",
        "            activation='swish')(X_shortcut)\n",
        "    else:\n",
        "        X_shortcut = L.Conv2D(filters=num_filters,\n",
        "                            kernel_size=1, strides=1,)(X_shortcut)\n",
        "\n",
        "    X = L.Add()([X, X_shortcut])\n",
        "    X = L.Activation('swish')(X)\n",
        "\n",
        "    return X"
      ],
      "execution_count": null,
      "outputs": []
    },
    {
      "cell_type": "markdown",
      "metadata": {
        "id": "3WlEO1zmQi5Q"
      },
      "source": [
        "The encoder block is divided in two parts, one for the simulation tensor encoding, and the other one for the object tensor encoding. The encoder reduces the simulation size to make the computation of the full simulation more efficient.\n",
        "\n",
        "<center><img src=\"figures/encoder.png\" width=\"500\" /></center>"
      ]
    },
    {
      "cell_type": "code",
      "metadata": {
        "id": "5U3g0Jo3Qd-w"
      },
      "source": [
        "def encoder_state(input_shape=(None, None, 9)):\n",
        "\n",
        "    X_input = L.Input(input_shape)\n",
        "\n",
        "    X = X_input\n",
        "    X = residual_block(X, 16, stride_1=1, kernel_size_1=4, padding='SAME')\n",
        "    X = residual_block(X, 32, stride_1=2, kernel_size_1=4)\n",
        "    X = residual_block(X, 32, stride_1=1, padding='SAME')\n",
        "    X = residual_block(X, 32, stride_1=1, padding='SAME')\n",
        "    X = residual_block(X, 64, stride_1=2, kernel_size_1=4)\n",
        "    X = residual_block(X, 64, stride_1=1, padding='SAME')\n",
        "    X = residual_block(X, 64, stride_1=1, padding='SAME')\n",
        "\n",
        "    obj_input = L.Input((None, None, 1))\n",
        "\n",
        "    Y = obj_input\n",
        "    Y = residual_block(Y, 32, stride_1=2, kernel_size_1=4)\n",
        "    Y = residual_block(Y, 32, stride_1=1, padding='SAME')\n",
        "    Y = residual_block(Y, 64, stride_1=2, kernel_size_1=4)\n",
        "    Y = residual_block(Y, 64, stride_1=1, padding='SAME')\n",
        "    b_add = residual_block(Y, 64, stride_1=1, padding='SAME')\n",
        "    b_mul = residual_block(Y, 64, stride_1=1, padding='SAME')\n",
        "    X = L.Multiply()([X, b_mul])\n",
        "    X = L.Add()([X, b_add])\n",
        "\n",
        "    model = Model(inputs=[X_input, obj_input], outputs=[X, b_add, b_mul])\n",
        "\n",
        "    return model"
      ],
      "execution_count": null,
      "outputs": []
    },
    {
      "cell_type": "markdown",
      "metadata": {
        "id": "YQzJYs8iQrAC"
      },
      "source": [
        "The decoder block upsamples the compressed simulation back to its original dimension. \n",
        "\n",
        "<center><img src=\"figures/decoder.png\" width=\"200\" /></center>"
      ]
    },
    {
      "cell_type": "code",
      "metadata": {
        "id": "BEvVUkMoQeBH"
      },
      "source": [
        "def decoder_state(input_shape):\n",
        "\n",
        "    X_input = L.Input(input_shape)\n",
        "\n",
        "    X = X_input\n",
        "    X = L.Conv2DTranspose(64, kernel_size=4, strides=2)(X)\n",
        "    X = residual_block(X, 32, stride_1=1, padding='SAME')\n",
        "    X = residual_block(X, 32, stride_1=1, padding='SAME')\n",
        "    X = L.Conv2DTranspose(32, kernel_size=4, strides=2)(X)\n",
        "    X = residual_block(X, 16, stride_1=1, padding='SAME')\n",
        "    X = residual_block(X, 16, stride_1=1, padding='SAME')\n",
        "    X = L.Conv2DTranspose(9, kernel_size=3, strides=1)(X)\n",
        "\n",
        "    model = Model(inputs=X_input, outputs=X)\n",
        "\n",
        "    return model"
      ],
      "execution_count": null,
      "outputs": []
    },
    {
      "cell_type": "markdown",
      "metadata": {
        "id": "8-ZgzYk9QzL3"
      },
      "source": [
        "The temporal evolution, or compression mapping block, is responsible for advancing the simulation in time, returning its next frame in the latent compressed dimensions.\n",
        "\n",
        "<center><img src=\"figures/mapping.png\" width=\"300\" /></center>"
      ]
    },
    {
      "cell_type": "code",
      "metadata": {
        "id": "mWZQzoiuQd8Z"
      },
      "source": [
        "def compression_mapping(input_shape_X, input_shape_b):\n",
        "\n",
        "    X_input = L.Input(input_shape_X)\n",
        "    b_add = L.Input(input_shape_b)\n",
        "    b_mul = L.Input(input_shape_b)\n",
        "\n",
        "    X = X_input\n",
        "    X = residual_block(X, 64, stride_1=1, padding='SAME')\n",
        "    X = residual_block(X, 64, stride_1=1, padding='SAME')\n",
        "    X = residual_block(X, 64, stride_1=1, padding='SAME')\n",
        "    X = residual_block(X, 64, stride_1=1, padding='SAME')\n",
        "\n",
        "    X = L.Multiply()([X, b_mul])\n",
        "    X = L.Add()([X, b_add])\n",
        "\n",
        "    model = Model(inputs=[X_input, b_add, b_mul], outputs=X)\n",
        "\n",
        "    return model"
      ],
      "execution_count": null,
      "outputs": []
    },
    {
      "cell_type": "markdown",
      "metadata": {
        "id": "vfEqz03mab58"
      },
      "source": [
        "The final model is created using the previously defined parts. To help guaranteeing the long term temporal convergence of the neural network, during training the 5 next simulation frames are predicted, reusing the decoder and temporal evolution parts.  \n",
        "\n",
        "<center><img src=\"figures/overview.png\" width=\"800\" /></center>"
      ]
    },
    {
      "cell_type": "code",
      "metadata": {
        "id": "mtujHSy7Q7pP"
      },
      "source": [
        "def create_final_model(model_encoder_state, model_decoder_state, model_compression_mapping):\n",
        "    X_input = L.Input((None, None, 9))\n",
        "    obj_input = L.Input((None, None, 1))\n",
        "    outputs = []\n",
        "\n",
        "    compressed, b_add, b_mul = model_encoder_state([X_input, obj_input])\n",
        "\n",
        "    for _ in range(5):\n",
        "        outputs.append(model_decoder_state([compressed]))\n",
        "        compressed = model_compression_mapping(\n",
        "            [compressed, b_add, b_mul])\n",
        "\n",
        "    model = Model(inputs=[X_input, obj_input], outputs=outputs)\n",
        "\n",
        "    return model"
      ],
      "execution_count": null,
      "outputs": []
    },
    {
      "cell_type": "code",
      "metadata": {
        "id": "ckFidxJSRCh_"
      },
      "source": [
        "model_encoder_state = encoder_state()\n",
        "model_decoder_state = decoder_state(model_encoder_state.output_shape[0][1:])\n",
        "model_compression_mapping = compression_mapping(\n",
        "    model_encoder_state.output_shape[0][1:], model_encoder_state.output_shape[1][1:])\n",
        "model_parts = [model_encoder_state, model_decoder_state, model_compression_mapping]"
      ],
      "execution_count": null,
      "outputs": []
    },
    {
      "cell_type": "code",
      "metadata": {
        "id": "YwO5jx6BRKk5"
      },
      "source": [
        "model = create_final_model(\n",
        "    model_encoder_state, model_decoder_state, model_compression_mapping)"
      ],
      "execution_count": null,
      "outputs": []
    },
    {
      "cell_type": "markdown",
      "metadata": {
        "id": "5kTkymy9RQOy"
      },
      "source": [
        "**Training**"
      ]
    },
    {
      "cell_type": "markdown",
      "metadata": {
        "id": "lodJN8CDRS_m"
      },
      "source": [
        "Although the loss being minimized is the Mean Squared Error (MSE) loss, it isn't very informative about the simulation convergence on the long term. To check the convergence during training, a callback that computes a full 100-frames simulation, and display the last frame in the end of every epoch is used."
      ]
    },
    {
      "cell_type": "code",
      "metadata": {
        "id": "tNWi1AtzRRVk"
      },
      "source": [
        "class visualize_result(tf.keras.callbacks.Callback):\n",
        "    def on_epoch_end(self, batch, logs={}):\n",
        "        predic = utils.generate_simulation(\n",
        "            model_parts, x_test[0:1], obj_test[0:1], frame_num=100)\n",
        "        vel = utils.get_velocity(predic[-1])\n",
        "        u_plot = np.abs(vel[0, :, :, 0], vel[0, :, :, 1])\n",
        "        plt.imshow(u_plot, cmap='viridis')\n",
        "        plt.show()\n",
        "class save_models(tf.keras.callbacks.Callback):\n",
        "    def on_epoch_end(self, batch, logs={}):\n",
        "        model_list.append(model.get_weights())"
      ],
      "execution_count": null,
      "outputs": []
    },
    {
      "cell_type": "code",
      "metadata": {
        "id": "eJKbZrwNRcQ8"
      },
      "source": [
        "model_list = []\n",
        "sav = save_models()\n",
        "vis = visualize_result()"
      ],
      "execution_count": null,
      "outputs": []
    },
    {
      "cell_type": "code",
      "metadata": {
        "id": "dEegdUmyRdsk"
      },
      "source": [
        "optm = tf.optimizers.Adam(learning_rate=5e-4)\n",
        "model.compile(optimizer=optm, loss='mse')"
      ],
      "execution_count": null,
      "outputs": []
    },
    {
      "cell_type": "code",
      "metadata": {
        "id": "3SzLOIzdRhOf"
      },
      "source": [
        "model.fit(x=[x_train[:-5], obj_train[:-5]], y=[x_train[i:i-5]\n",
        "                                               for i in range(5)], batch_size=4, epochs=20, callbacks=[vis, sav])"
      ],
      "execution_count": null,
      "outputs": []
    },
    {
      "cell_type": "markdown",
      "metadata": {
        "id": "DE-omI2oRiGo"
      },
      "source": [
        "**Visualization**"
      ]
    },
    {
      "cell_type": "code",
      "metadata": {
        "id": "i3GqBtEkRjv7"
      },
      "source": [
        "#model.set_weights(model_list[i]) #choose the model that produced the best result"
      ],
      "execution_count": null,
      "outputs": []
    },
    {
      "cell_type": "code",
      "metadata": {
        "id": "CPE11pZoRpEd"
      },
      "source": [
        "y_hat = utils.generate_simulation(model_parts, x_test[0:1], obj_test[0:1])"
      ],
      "execution_count": null,
      "outputs": []
    },
    {
      "cell_type": "code",
      "metadata": {
        "id": "YzzfxW9_Rqvn"
      },
      "source": [
        "utils.make_animation(y_hat, [], 'vel')"
      ],
      "execution_count": null,
      "outputs": []
    }
  ]
}